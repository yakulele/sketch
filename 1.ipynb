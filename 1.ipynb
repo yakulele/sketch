{
 "cells": [
  {
   "cell_type": "markdown",
   "metadata": {},
   "source": [
    "**1.** Дана строка, в которой встречаются натуральные шестнадцатеричные числа. Их запись начинается с 0x и использует большие латинские буквы (например, 0x1A). \n",
    "\n",
    "Других чисел в строке нет. К сожалению, некоторые числа записаны неправильно - пропущен префикс \"0x\". Но может быть и обратная ситуация, после \"0x\" записано не число. \n",
    "\n",
    "Ваша задача выделить все шестнадцатеричные числа из строки, дописав, где необходимо пропущенный префикс \"0x\".\n",
    "Формат входных данных\n",
    "В единственной строке входных данных задана строка, состоящая из цифр, заглавных и строчных латинских букв, а также пробелов. Длина строки не превосходит 10 000 символов.\n",
    "Формат выходных данных\n",
    "Выведите все шестнадцатеричные числа, разделенные пробелом, в том же порядке, что они встречались в исходной строке."
   ]
  },
  {
   "cell_type": "markdown",
   "metadata": {},
   "source": [
    "**Gigachat**"
   ]
  },
  {
   "cell_type": "code",
   "execution_count": 13,
   "metadata": {},
   "outputs": [
    {
     "name": "stdout",
     "output_type": "stream",
     "text": [
      "0x111 0xQWERTY 123 0xa 00\n",
      "0x111 0x123 0x00\n"
     ]
    }
   ],
   "source": [
    "def fix_hex_numbers(s):\n",
    "    fixed = []\n",
    "    \n",
    "    start = 0\n",
    "    while True:\n",
    "        index = s.find('0x', start)\n",
    "        if index == -1:\n",
    "            break\n",
    "        number = s[index + 2:]\n",
    "        if not number.isalnum():\n",
    "            # '0x' отсутствует, добавляем\n",
    "            fixed.append(\"0x\" + number)\n",
    "            start = index + len(number) + 1\n",
    "        else:\n",
    "            # Проверяем, является ли последующий символ цифрой\n",
    "            if s[index + 4].isdigit() or s[index + 4] in 'ABCDEFabcdef':\n",
    "                # Следующий символ - часть правильного шестнадцатеричного числа\n",
    "                fixed.append(number)\n",
    "                start = index + len(number) + 1\n",
    "            else:\n",
    "                # '0x' присутствует, но следующее значение неверное, пропускаем\n",
    "                start += 1\n",
    "    \n",
    "    return ' '.join(fixed)\n",
    "\n",
    "# Пример использования\n",
    "input_string = input().strip()\n",
    "print(input_string)\n",
    "output_string = fix_hex_numbers(input_string)\n",
    "result = extract_hex_numbers(input_string)\n",
    "print(result)"
   ]
  },
  {
   "cell_type": "markdown",
   "metadata": {},
   "source": [
    "**You.com**"
   ]
  },
  {
   "cell_type": "code",
   "execution_count": 9,
   "metadata": {},
   "outputs": [
    {
     "name": "stdout",
     "output_type": "stream",
     "text": [
      "0x111 0xQWERTY 123 0xa 00\n",
      "0x111 0x123 0x00\n"
     ]
    }
   ],
   "source": [
    "import re\n",
    "\n",
    "def extract_hex_numbers(input_string):\n",
    "    # Регулярное выражение для поиска шестнадцатеричных чисел\n",
    "    pattern = r'\\b(0x[0-9A-F]+|(?<!0x)([0-9A-F]+))\\b'\n",
    "    matches = re.findall(pattern, input_string)\n",
    "\n",
    "    hex_numbers = []\n",
    "    for match in matches:\n",
    "        if match[0].startswith('0x'):\n",
    "            hex_numbers.append(match[0])\n",
    "        else:\n",
    "            hex_numbers.append('0x' + match[1])\n",
    "\n",
    "    return ' '.join(hex_numbers)\n",
    "\n",
    "# Пример использования\n",
    "#input_string = \"0x111 0xQWERTY 123 0xa 00\"\n",
    "input_string = input().strip()\n",
    "print(input_string)\n",
    "result = extract_hex_numbers(input_string)\n",
    "print(result)  # Вывод: 0x111 0x123 0x0A\n",
    "\n"
   ]
  },
  {
   "cell_type": "markdown",
   "metadata": {},
   "source": [
    "**2.** Дана строка, в которой встречаются натуральные шестнадцатеричные числа. Их запись начинается с 0x и использует большие латинские буквы (например, 0x1A). \n",
    "\n",
    "Других чисел в строке нет. К сожалению, некоторые числа записаны неправильно - пропущен префикс \"0x\". Но может быть и обратная ситуация, после \"0x\" записано не число. \n",
    "\n",
    "Ваша задача выделить все шестнадцатеричные числа из строки, дописав, где необходимо пропущенный префикс \"0x\".\n",
    "Формат входных данных\n",
    "В единственной строке входных данных задана строка, состоящая из цифр, заглавных и строчных латинских букв, а также пробелов. Длина строки не превосходит 10 000 символов.\n",
    "Формат выходных данных\n",
    "Выведите все шестнадцатеричные числа, разделенные пробелом, в том же порядке, что они встречались в исходной строке."
   ]
  },
  {
   "cell_type": "markdown",
   "metadata": {},
   "source": [
    "**Gigachat**"
   ]
  },
  {
   "cell_type": "code",
   "execution_count": 21,
   "metadata": {},
   "outputs": [
    {
     "ename": "ValueError",
     "evalue": "not enough values to unpack (expected 3, got 1)",
     "output_type": "error",
     "traceback": [
      "\u001b[1;31m---------------------------------------------------------------------------\u001b[0m",
      "\u001b[1;31mValueError\u001b[0m                                Traceback (most recent call last)",
      "Cell \u001b[1;32mIn[21], line 60\u001b[0m\n\u001b[0;32m     56\u001b[0m     \u001b[38;5;28mprint\u001b[39m(\u001b[38;5;241m*\u001b[39mresult, sep\u001b[38;5;241m=\u001b[39m\u001b[38;5;124m'\u001b[39m\u001b[38;5;124m;\u001b[39m\u001b[38;5;124m'\u001b[39m)\n\u001b[0;32m     59\u001b[0m \u001b[38;5;28;01mif\u001b[39;00m \u001b[38;5;18m__name__\u001b[39m \u001b[38;5;241m==\u001b[39m \u001b[38;5;124m\"\u001b[39m\u001b[38;5;124m__main__\u001b[39m\u001b[38;5;124m\"\u001b[39m:\n\u001b[1;32m---> 60\u001b[0m     \u001b[43mmain\u001b[49m\u001b[43m(\u001b[49m\u001b[43m)\u001b[49m\n",
      "Cell \u001b[1;32mIn[21], line 52\u001b[0m, in \u001b[0;36mmain\u001b[1;34m()\u001b[0m\n\u001b[0;32m     49\u001b[0m places \u001b[38;5;241m=\u001b[39m []\n\u001b[0;32m     51\u001b[0m \u001b[38;5;28;01mfor\u001b[39;00m _ \u001b[38;5;129;01min\u001b[39;00m \u001b[38;5;28mrange\u001b[39m(num_places):\n\u001b[1;32m---> 52\u001b[0m     interest, cost, name \u001b[38;5;241m=\u001b[39m \u001b[38;5;28mmap\u001b[39m(\u001b[38;5;28mint\u001b[39m, \u001b[38;5;28minput\u001b[39m()\u001b[38;5;241m.\u001b[39msplit(\u001b[38;5;124m'\u001b[39m\u001b[38;5;124m;\u001b[39m\u001b[38;5;124m'\u001b[39m))\n\u001b[0;32m     53\u001b[0m     places\u001b[38;5;241m.\u001b[39mappend((interest, cost \u001b[38;5;241m/\u001b[39m\u001b[38;5;241m/\u001b[39m \u001b[38;5;241m50\u001b[39m, name))\n\u001b[0;32m     55\u001b[0m result \u001b[38;5;241m=\u001b[39m max_score(budget, places)\n",
      "\u001b[1;31mValueError\u001b[0m: not enough values to unpack (expected 3, got 1)"
     ]
    }
   ],
   "source": [
    "def max_score(money, places):\n",
    "    def create_graph():\n",
    "        rows = len(places)\n",
    "        cols = min(days_limit, len(places))\n",
    "        graph = [[0] * cols for _ in range(rows)]\n",
    "        return graph\n",
    "\n",
    "    days_limit = 16\n",
    "    graph = create_graph()\n",
    "\n",
    "    for i in range(len(places)):\n",
    "        interest = places[i][0]\n",
    "        price = places[i][1] // 50\n",
    "        name = places[i][2]\n",
    "\n",
    "        for j in range(min(days_limit, len(places))):\n",
    "            if price <= budget:\n",
    "                graph[i][j] = max(interest + graph[i - 1][j - 1], graph[i - 1][j])\n",
    "            else:\n",
    "                graph[i][j] = graph[i - 1][j]\n",
    "\n",
    "    max_score = 0\n",
    "    best_path = []\n",
    "    visited = set()\n",
    "\n",
    "    for i in range(len(places)):\n",
    "        for j in range(min(days_limit, len(places))):\n",
    "            if graph[i][j] > max_score:\n",
    "                max_score = graph[i][j]\n",
    "                best_path = [(i, j)]\n",
    "            elif graph[i][j] == max_score:\n",
    "                best_path.append((i, j))\n",
    "\n",
    "    best_path.sort(key=lambda x: x[0])\n",
    "\n",
    "    for _, j in best_path:\n",
    "        index = j\n",
    "        while index != -1:\n",
    "            visited.add(index)\n",
    "            yield places[index][2]\n",
    "            index -= 1\n",
    "\n",
    "    return list(filter(None, map(lambda x: x[2], places)))\n",
    "\n",
    "\n",
    "def main():\n",
    "    budget = int(input())\n",
    "    num_places = int(input())\n",
    "    places = []\n",
    "\n",
    "    for _ in range(num_places):\n",
    "        interest, cost, name = map(int, input().split(';'))\n",
    "        places.append((interest, cost // 50, name))\n",
    "\n",
    "    result = max_score(budget, places)\n",
    "    print(*result, sep=';')\n",
    "\n",
    "\n",
    "if __name__ == \"__main__\":\n",
    "    main()"
   ]
  },
  {
   "cell_type": "markdown",
   "metadata": {},
   "source": [
    "**You.com**"
   ]
  },
  {
   "cell_type": "code",
   "execution_count": 6,
   "metadata": {},
   "outputs": [
    {
     "name": "stdout",
     "output_type": "stream",
     "text": [
      "Ermitazh;Isaakievskij sobor;Krejser Avrora\n"
     ]
    }
   ],
   "source": [
    "def max_interesting_places(m, n, places):\n",
    "    places_info = []\n",
    "    for place in places:\n",
    "        points, cost, name = place.split(';')\n",
    "        places_info.append((int(points), int(cost), name))\n",
    "    \n",
    "    max_visits = 16 * 2 \n",
    "    \n",
    "    dp = [[0] * (m + 1) for _ in range(max_visits + 1)]\n",
    "    selected_places = [[[] for _ in range(m + 1)] for _ in range(max_visits + 1)]\n",
    "\n",
    "    for points, cost, name in places_info:\n",
    "        for visits in range(max_visits, 0, -1):\n",
    "            for money in range(m, cost - 1, -1):\n",
    "                if dp[visits - 1][money - cost] + points > dp[visits][money]:\n",
    "                    dp[visits][money] = dp[visits - 1][money - cost] + points\n",
    "                    selected_places[visits][money] = selected_places[visits - 1][money - cost] + [name]\n",
    "\n",
    "    max_points = 0\n",
    "    best_places = []\n",
    "    for visits in range(1, max_visits + 1):\n",
    "        for money in range(m + 1):\n",
    "            if dp[visits][money] > max_points:\n",
    "                max_points = dp[visits][money]\n",
    "                best_places = selected_places[visits][money]\n",
    "\n",
    "    return best_places\n",
    "\n",
    "m = int(input('Доступная сумма денег'))\n",
    "n = int(input('Количество мест:'))\n",
    "\n",
    "places = []\n",
    "for _ in range(n):\n",
    "    place_info = input('Введите информацию о месте в формате <баллы>;<стоимость>;<название>: ')\n",
    "    places.append(place_info)\n",
    "\n",
    "result = max_interesting_places(m, n, places)\n",
    "print(';'.join(result)) "
   ]
  },
  {
   "cell_type": "markdown",
   "metadata": {},
   "source": [
    "**You.com**"
   ]
  },
  {
   "cell_type": "code",
   "execution_count": 15,
   "metadata": {},
   "outputs": [
    {
     "name": "stdout",
     "output_type": "stream",
     "text": [
      "10\n",
      "Случайные числа: [5, 1, 7, 6, 8, 3, 9, 4, 2, 0]\n",
      "Сумма случайных чисел: 45\n",
      "Остаток от деления суммы на N: 5\n"
     ]
    }
   ],
   "source": [
    "import random\n",
    "\n",
    "# Ввод значения N\n",
    "N = int(input(\"Введите значение N: \"))\n",
    "\n",
    "# Генерация N случайных чисел в диапазоне от 0 до N-1\n",
    "random_numbers = random.sample(range(N), N)\n",
    "\n",
    "# Подсчет суммы\n",
    "total_sum = sum(random_numbers)\n",
    "\n",
    "# Вычисление остатка от деления суммы на N\n",
    "result = total_sum % N\n",
    "\n",
    "# Вывод результата\n",
    "print(N)\n",
    "print(\"Случайные числа:\", random_numbers)\n",
    "print(\"Сумма случайных чисел:\", total_sum)\n",
    "print(\"Остаток от деления суммы на N:\", result)"
   ]
  },
  {
   "cell_type": "markdown",
   "metadata": {},
   "source": [
    "**Gigachat**"
   ]
  },
  {
   "cell_type": "code",
   "execution_count": 14,
   "metadata": {},
   "outputs": [
    {
     "name": "stdout",
     "output_type": "stream",
     "text": [
      "10\n",
      "5\n"
     ]
    }
   ],
   "source": [
    "def find_remainder(N):\n",
    "    # Сумма всех остатков от 0 до N-1 включительно\n",
    "    sum_of_remainders = (N * (N - 1)) // 2\n",
    "    \n",
    "    # Остаток от деления этой суммы на N\n",
    "    return sum_of_remainders % N\n",
    "\n",
    "# Чтение входного значения\n",
    "N = int(input().strip())\n",
    "print(N)\n",
    "\n",
    "# Вычисление результата\n",
    "result = find_remainder(N)\n",
    "print(result)"
   ]
  },
  {
   "cell_type": "markdown",
   "metadata": {},
   "source": [
    "**You.com**"
   ]
  },
  {
   "cell_type": "code",
   "execution_count": 19,
   "metadata": {},
   "outputs": [
    {
     "name": "stdout",
     "output_type": "stream",
     "text": [
      "EEEEEEEEK\n",
      "8\n"
     ]
    }
   ],
   "source": [
    "# Ввод строки\n",
    "s = input(\"Введите строку: \")\n",
    "print(s)\n",
    "\n",
    "# Словарь для хранения первых и последних индексов вхождения каждого символа\n",
    "indices = {}\n",
    "\n",
    "# Проходим по строке и заполняем словарь\n",
    "for i, char in enumerate(s):\n",
    "    if char not in indices:\n",
    "        indices[char] = [i, i]  # [первый индекс, последний индекс]\n",
    "    else:\n",
    "        indices[char][1] = i  # обновляем последний индекс\n",
    "\n",
    "# Переменная для хранения максимальной длины\n",
    "max_length = 0\n",
    "\n",
    "# Находим максимальную длину подстроки\n",
    "for first_index, last_index in indices.values():\n",
    "    length = last_index - first_index + 1  # длина подстроки\n",
    "    max_length = max(max_length, length)\n",
    "\n",
    "# Вывод результата\n",
    "print(max_length)"
   ]
  },
  {
   "cell_type": "markdown",
   "metadata": {},
   "source": [
    "**Gigachat**"
   ]
  },
  {
   "cell_type": "code",
   "execution_count": 21,
   "metadata": {},
   "outputs": [
    {
     "ename": "IndexError",
     "evalue": "list index out of range",
     "output_type": "error",
     "traceback": [
      "\u001b[1;31m---------------------------------------------------------------------------\u001b[0m",
      "\u001b[1;31mIndexError\u001b[0m                                Traceback (most recent call last)",
      "Cell \u001b[1;32mIn[21], line 25\u001b[0m\n\u001b[0;32m     22\u001b[0m s \u001b[38;5;241m=\u001b[39m \u001b[38;5;28minput\u001b[39m()\u001b[38;5;241m.\u001b[39mstrip()\n\u001b[0;32m     24\u001b[0m \u001b[38;5;66;03m# Вывод результата\u001b[39;00m\n\u001b[1;32m---> 25\u001b[0m \u001b[38;5;28mprint\u001b[39m(\u001b[43mspecial_substring_length\u001b[49m\u001b[43m(\u001b[49m\u001b[43ms\u001b[49m\u001b[43m)\u001b[49m)\n",
      "Cell \u001b[1;32mIn[21], line 15\u001b[0m, in \u001b[0;36mspecial_substring_length\u001b[1;34m(s)\u001b[0m\n\u001b[0;32m     12\u001b[0m j \u001b[38;5;241m=\u001b[39m i \u001b[38;5;241m+\u001b[39m l \u001b[38;5;241m-\u001b[39m \u001b[38;5;241m1\u001b[39m\n\u001b[0;32m     14\u001b[0m \u001b[38;5;28;01mif\u001b[39;00m s[i] \u001b[38;5;241m==\u001b[39m s[j]:\n\u001b[1;32m---> 15\u001b[0m     dp[i][j] \u001b[38;5;241m=\u001b[39m \u001b[38;5;28mmax\u001b[39m(dp[i][j], \u001b[43mdp\u001b[49m\u001b[43m[\u001b[49m\u001b[43mi\u001b[49m\u001b[43m \u001b[49m\u001b[38;5;241;43m+\u001b[39;49m\u001b[43m \u001b[49m\u001b[38;5;241;43m1\u001b[39;49m\u001b[43m]\u001b[49m[j \u001b[38;5;241m-\u001b[39m \u001b[38;5;241m1\u001b[39m] \u001b[38;5;241m+\u001b[39m \u001b[38;5;241m2\u001b[39m)\n\u001b[0;32m     16\u001b[0m \u001b[38;5;28;01melse\u001b[39;00m:\n\u001b[0;32m     17\u001b[0m     dp[i][j] \u001b[38;5;241m=\u001b[39m \u001b[38;5;28mmax\u001b[39m(dp[i][j], dp[i \u001b[38;5;241m+\u001b[39m \u001b[38;5;241m1\u001b[39m][j])\n",
      "\u001b[1;31mIndexError\u001b[0m: list index out of range"
     ]
    }
   ],
   "source": [
    "def special_substring_length(s):\n",
    "    n = len(s)\n",
    "    dp = [[0 for _ in range(n)] for _ in range(n)]\n",
    "    \n",
    "    # Инициализация\n",
    "    for i in range(n):\n",
    "        dp[i][0] = 0\n",
    "    dp[0][0] = 1\n",
    "    \n",
    "    for l in range(1, n + 1):\n",
    "        for i in range(n - l + 1):\n",
    "            j = i + l - 1\n",
    "            \n",
    "            if s[i] == s[j]:\n",
    "                dp[i][j] = max(dp[i][j], dp[i + 1][j - 1] + 2)\n",
    "            else:\n",
    "                dp[i][j] = max(dp[i][j], dp[i + 1][j])\n",
    "                \n",
    "    return max(dp[0][j] for j in range(n))\n",
    "\n",
    "# Чтение строки\n",
    "s = input().strip()\n",
    "\n",
    "# Вывод результата\n",
    "print(special_substring_length(s))"
   ]
  },
  {
   "cell_type": "code",
   "execution_count": 25,
   "metadata": {},
   "outputs": [
    {
     "name": "stdout",
     "output_type": "stream",
     "text": [
      "Исправленные шестнадцатеричные числа: \n"
     ]
    }
   ],
   "source": []
  }
 ],
 "metadata": {
  "kernelspec": {
   "display_name": "Python 3",
   "language": "python",
   "name": "python3"
  },
  "language_info": {
   "codemirror_mode": {
    "name": "ipython",
    "version": 3
   },
   "file_extension": ".py",
   "mimetype": "text/x-python",
   "name": "python",
   "nbconvert_exporter": "python",
   "pygments_lexer": "ipython3",
   "version": "3.12.0"
  }
 },
 "nbformat": 4,
 "nbformat_minor": 2
}
